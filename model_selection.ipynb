{
 "cells": [
  {
   "cell_type": "code",
   "execution_count": 1,
   "metadata": {},
   "outputs": [],
   "source": [
    "import os\n",
    "os.environ[\"OPENAI_API_KEY\"] = \"sk-\""
   ]
  },
  {
   "cell_type": "code",
   "execution_count": 2,
   "metadata": {},
   "outputs": [
    {
     "name": "stdout",
     "output_type": "stream",
     "text": [
      "🦑 Tru initialized with db url sqlite:///default.sqlite .\n",
      "🛑 Secret keys may be written to the database. See the `database_redact_keys` option of Tru` to prevent this.\n"
     ]
    }
   ],
   "source": [
    "# Imports main tools:\n",
    "from trulens_eval import Feedback\n",
    "from trulens_eval import OpenAI\n",
    "from trulens_eval import Tru\n",
    "\n",
    "tru = Tru()\n",
    "tru.reset_database()\n"
   ]
  },
  {
   "cell_type": "code",
   "execution_count": 3,
   "metadata": {},
   "outputs": [],
   "source": [
    "from langchain_core.prompts import ChatPromptTemplate\n",
    "\n",
    "system_prompt = \"\"\"\n",
    "\"You are an expert in managing YouTube addiction, with a deep understanding of addiction psychology, goal-setting strategies, and behavior modification techniques. Your task is to create a personalized 30-day improvement plan for individuals seeking to balance their digital consumption with personal growth. You will receive input regarding the individual's personal goals and passions, alongside their specific goals for reducing YouTube usage and content they aim to avoid. Based on this information, you are to provide a detailed plan that includes:\n",
    "\n",
    "Initial Assessment: Summarize the individual's current situation based on their input, highlighting key areas for improvement in their YouTube consumption habits and how these relate to their personal goals and passions.\n",
    "Goal-Setting: Outline specific, measurable, achievable, relevant, and time-bound (SMART) goals for both reducing YouTube addiction and advancing towards their personal objectives.\n",
    "Daily Action Steps: Provide a day-by-day guide for the 30-day period, with each day's activities designed to gradually reduce YouTube consumption and encourage progress on their personal goals. Include practical tips for avoiding triggers, managing cravings, and finding healthier alternatives.\n",
    "Educational Insights: Integrate brief educational snippets about the psychology of addiction and the role of dopamine in habit formation, tailored to help the individual understand and navigate their journey.\n",
    "Motivational Support: Offer motivational messages and affirmations to encourage persistence, resilience, and self-compassion throughout the 30-day plan.\n",
    "Remember to approach this task with empathy, offering guidance that is both realistic and supportive, considering the individual's unique circumstances and challenges.\"\n",
    "\"\"\" \n",
    "\n",
    "\n",
    "prompt = ChatPromptTemplate.from_messages([\n",
    "    (\"system\", system_prompt),\n",
    "    (\"user\", \"{input}\")\n",
    "])\n",
    "\n"
   ]
  },
  {
   "cell_type": "code",
   "execution_count": 4,
   "metadata": {},
   "outputs": [],
   "source": [
    "from langchain.chat_models import ChatOpenAI\n",
    "from langchain.chains import LLMChain\n",
    "\n",
    "def gpt35_turbo(user_input):\n",
    "    gpt35_turbo = ChatOpenAI(model_name=\"gpt-3.5-turbo-0125\", temperature=0)\n",
    "    chain = prompt | gpt35_turbo \n",
    "    return chain.invoke({\"input\": question})\n",
    "\n",
    "def gpt4_turbo(question):\n",
    "    gpt4_turbo = ChatOpenAI(model_name=\"gpt-4-0125-preview\", temperature=0)\n",
    "    chain = prompt | gpt4_turbo \n",
    "    return chain.invoke({\"input\": question})"
   ]
  },
  {
   "cell_type": "code",
   "execution_count": 5,
   "metadata": {},
   "outputs": [
    {
     "name": "stdout",
     "output_type": "stream",
     "text": [
      "✅ In relevance, input prompt will be set to __record__.main_input or `Select.RecordInput` .\n",
      "✅ In relevance, input response will be set to __record__.main_output or `Select.RecordOutput` .\n",
      "✅ In conciseness, input text will be set to __record__.main_output or `Select.RecordOutput` .\n",
      "✅ In stereotypes, input prompt will be set to __record__.main_input or `Select.RecordInput` .\n",
      "✅ In stereotypes, input response will be set to __record__.main_output or `Select.RecordOutput` .\n"
     ]
    }
   ],
   "source": [
    "# OpenAI based feedback function collection class\n",
    "openai_provider = OpenAI()\n",
    "\n",
    "# Relevance feedback function using openai\n",
    "f_relevance = Feedback(openai_provider.relevance, feedback_mode = \"deferred\").on_input_output()\n",
    "\n",
    "# Conciseness feedback function using openai\n",
    "f_conciseness = Feedback(openai_provider.conciseness, feedback_mode = \"deferred\").on_output()\n",
    "\n",
    "# Stereotypes feedback function using openai\n",
    "f_stereotypes = Feedback(openai_provider.stereotypes, feedback_mode = \"deferred\").on_input_output()\n",
    "\n",
    "feedbacks = [f_relevance, f_conciseness, f_stereotypes]"
   ]
  },
  {
   "cell_type": "code",
   "execution_count": 6,
   "metadata": {},
   "outputs": [],
   "source": [
    "from trulens_eval import TruBasicApp\n",
    "gpt35_turbo_recorder = TruBasicApp(gpt35_turbo, app_id=\"gpt-3.5-turbo\", feedbacks=feedbacks)\n",
    "gpt4_turbo_recorder = TruBasicApp(gpt4_turbo, app_id=\"gpt-4-turbo\", feedbacks=feedbacks)"
   ]
  },
  {
   "cell_type": "code",
   "execution_count": 7,
   "metadata": {},
   "outputs": [],
   "source": [
    "user_input_1 = \"\"\"\n",
    "Personal Goal and Passion: \"I'm passionate about painting and aspire to become a professional artist. My goal is to complete at least one painting per week, but I find myself spending hours on YouTube watching tutorials that I seldom put into practice.\"\n",
    "Goal to Improve Addiction: \"I want to reduce my YouTube usage, specifically the time spent on endless tutorial loops without actual practice. I aim to limit my consumption of art tutorials to only two hours a week, using the rest of my time for hands-on painting.\"\n",
    "\"\"\"\n",
    "\n",
    "user_input_2 = \"\"\"\n",
    "Personal Goal and Passion: \"Fitness is my biggest passion, and I'm training for a half-marathon. However, I often find myself watching fitness vlogs and motivational videos on YouTube instead of going out for my runs or doing my workouts.\"\n",
    "Goal to Improve Addiction: \"I need to cut down on passive consumption of fitness content and spend more actual time training. My goal is to replace at least half of my YouTube viewing time with real-life training sessions, avoiding fitness vlogs and focusing only on necessary training videos.\"\n",
    "\"\"\"\n",
    "\n",
    "user_input_3 = \"\"\"\n",
    "Personal Goal and Passion: \"I'm a student with upcoming exams in three major subjects. While I start on YouTube looking for study tips or educational content, I end up watching unrelated videos for hours, which is hampering my study schedule.\"\n",
    "Goal to Improve Addiction: \"My aim is to use YouTube solely for educational purposes related to my exams, avoiding any content not directly linked to my study topics. I want to limit my daily YouTube usage to a maximum of one hour, strictly for educational videos that contribute to my exam preparation.\"\n",
    "\"\"\"\n",
    "\n",
    "user_input_4 = \"\"\"\n",
    "Personal Goal and Passion: \"Fitness is my ultimate passion, and I'm working towards running a marathon. Despite my dedication, I find myself endlessly browsing through fitness vlogs and motivational speeches on YouTube, which eats into my training time.\"\n",
    "Goal to Improve Addiction: \"My objective is to significantly cut down on my YouTube consumption, especially videos that are motivational but not directly related to my training regimen. I aim to restrict my viewing to only one hour per week strictly for instructional running and diet advice, reallocating the saved time to physical training and preparation for the marathon.\"\n",
    "\"\"\"\n",
    "\n",
    "user_input_5 = \"\"\"\n",
    "Personal Goal and Passion: \"I am deeply interested in programming and aim to enhance my coding skills to build my own tech startup. My goal is to develop a new software project every month, but I often get sidetracked watching tech talks and tutorials on YouTube without actual coding.\"\n",
    "Goal to Improve Addiction: \"I wish to curb my YouTube usage, particularly the excessive time spent watching tech-related content that doesn't directly contribute to my coding practice. I plan to limit my viewing of such content to just three hours per week, dedicating the bulk of my time to hands-on software development and coding exercises.\"\n",
    "\"\"\"\n",
    "\n",
    "prompts = [\n",
    "    user_input_1,\n",
    "    user_input_2,\n",
    "    user_input_3,\n",
    "    user_input_4,\n",
    "    user_input_5\n",
    "]"
   ]
  },
  {
   "cell_type": "code",
   "execution_count": 8,
   "metadata": {
    "scrolled": true
   },
   "outputs": [
    {
     "name": "stdout",
     "output_type": "stream",
     "text": [
      "Starting dashboard ...\n",
      "Config file already exists. Skipping writing process.\n",
      "Credentials file already exists. Skipping writing process.\n"
     ]
    },
    {
     "data": {
      "application/vnd.jupyter.widget-view+json": {
       "model_id": "be98d3dd9e7e4452998bc54b69f49b61",
       "version_major": 2,
       "version_minor": 0
      },
      "text/plain": [
       "Accordion(children=(VBox(children=(VBox(children=(Label(value='STDOUT'), Output())), VBox(children=(Label(valu…"
      ]
     },
     "metadata": {},
     "output_type": "display_data"
    },
    {
     "name": "stdout",
     "output_type": "stream",
     "text": [
      "Dashboard started at http://192.168.0.204:8501 .\n"
     ]
    },
    {
     "data": {
      "text/plain": [
       "<Popen: returncode: None args: ['streamlit', 'run', '--server.headless=True'...>"
      ]
     },
     "execution_count": 8,
     "metadata": {},
     "output_type": "execute_result"
    }
   ],
   "source": [
    "tru.run_dashboard()"
   ]
  },
  {
   "cell_type": "code",
   "execution_count": 9,
   "metadata": {},
   "outputs": [
    {
     "name": "stdout",
     "output_type": "stream",
     "text": [
      "\n",
      "Personal Goal and Passion: \"I'm passionate about painting and aspire to become a professional artist. My goal is to complete at least one painting per week, but I find myself spending hours on YouTube watching tutorials that I seldom put into practice.\"\n",
      "Goal to Improve Addiction: \"I want to reduce my YouTube usage, specifically the time spent on endless tutorial loops without actual practice. I aim to limit my consumption of art tutorials to only two hours a week, using the rest of my time for hands-on painting.\"\n",
      "\n"
     ]
    },
    {
     "name": "stderr",
     "output_type": "stream",
     "text": [
      "/Users/joeywang/Documents/side_projects/youtube-addiction/lablab/coaching-program/new-env/lib/python3.10/site-packages/langchain_core/_api/deprecation.py:117: LangChainDeprecationWarning: The class `langchain_community.chat_models.openai.ChatOpenAI` was deprecated in langchain-community 0.0.10 and will be removed in 0.2.0. An updated version of the class exists in the langchain-openai package and should be used instead. To use it run `pip install -U langchain-openai` and import as `from langchain_openai import ChatOpenAI`.\n",
      "  warn_deprecated(\n",
      "Unsure what the main output string is for the call to _call with return type <class 'langchain_core.messages.ai.AIMessage'>.\n"
     ]
    },
    {
     "name": "stdout",
     "output_type": "stream",
     "text": [
      "\n",
      "Personal Goal and Passion: \"Fitness is my biggest passion, and I'm training for a half-marathon. However, I often find myself watching fitness vlogs and motivational videos on YouTube instead of going out for my runs or doing my workouts.\"\n",
      "Goal to Improve Addiction: \"I need to cut down on passive consumption of fitness content and spend more actual time training. My goal is to replace at least half of my YouTube viewing time with real-life training sessions, avoiding fitness vlogs and focusing only on necessary training videos.\"\n",
      "\n"
     ]
    },
    {
     "name": "stderr",
     "output_type": "stream",
     "text": [
      "Unsure what the main output string is for the call to _call with return type <class 'langchain_core.messages.ai.AIMessage'>.\n"
     ]
    },
    {
     "name": "stdout",
     "output_type": "stream",
     "text": [
      "\n",
      "Personal Goal and Passion: \"I'm a student with upcoming exams in three major subjects. While I start on YouTube looking for study tips or educational content, I end up watching unrelated videos for hours, which is hampering my study schedule.\"\n",
      "Goal to Improve Addiction: \"My aim is to use YouTube solely for educational purposes related to my exams, avoiding any content not directly linked to my study topics. I want to limit my daily YouTube usage to a maximum of one hour, strictly for educational videos that contribute to my exam preparation.\"\n",
      "\n"
     ]
    },
    {
     "name": "stderr",
     "output_type": "stream",
     "text": [
      "Unsure what the main output string is for the call to _call with return type <class 'langchain_core.messages.ai.AIMessage'>.\n"
     ]
    },
    {
     "name": "stdout",
     "output_type": "stream",
     "text": [
      "\n",
      "Personal Goal and Passion: \"Fitness is my ultimate passion, and I'm working towards running a marathon. Despite my dedication, I find myself endlessly browsing through fitness vlogs and motivational speeches on YouTube, which eats into my training time.\"\n",
      "Goal to Improve Addiction: \"My objective is to significantly cut down on my YouTube consumption, especially videos that are motivational but not directly related to my training regimen. I aim to restrict my viewing to only one hour per week strictly for instructional running and diet advice, reallocating the saved time to physical training and preparation for the marathon.\"\n",
      "\n"
     ]
    },
    {
     "name": "stderr",
     "output_type": "stream",
     "text": [
      "Unsure what the main output string is for the call to _call with return type <class 'langchain_core.messages.ai.AIMessage'>.\n"
     ]
    },
    {
     "name": "stdout",
     "output_type": "stream",
     "text": [
      "\n",
      "Personal Goal and Passion: \"I am deeply interested in programming and aim to enhance my coding skills to build my own tech startup. My goal is to develop a new software project every month, but I often get sidetracked watching tech talks and tutorials on YouTube without actual coding.\"\n",
      "Goal to Improve Addiction: \"I wish to curb my YouTube usage, particularly the excessive time spent watching tech-related content that doesn't directly contribute to my coding practice. I plan to limit my viewing of such content to just three hours per week, dedicating the bulk of my time to hands-on software development and coding exercises.\"\n",
      "\n"
     ]
    },
    {
     "name": "stderr",
     "output_type": "stream",
     "text": [
      "Unsure what the main output string is for the call to _call with return type <class 'langchain_core.messages.ai.AIMessage'>.\n"
     ]
    }
   ],
   "source": [
    "with gpt35_turbo_recorder as recording:\n",
    "    for question in prompts:\n",
    "        print(question)\n",
    "        gpt35_turbo_recorder.app(question)"
   ]
  },
  {
   "cell_type": "code",
   "execution_count": 10,
   "metadata": {},
   "outputs": [
    {
     "name": "stdout",
     "output_type": "stream",
     "text": [
      "\n",
      "Personal Goal and Passion: \"I'm passionate about painting and aspire to become a professional artist. My goal is to complete at least one painting per week, but I find myself spending hours on YouTube watching tutorials that I seldom put into practice.\"\n",
      "Goal to Improve Addiction: \"I want to reduce my YouTube usage, specifically the time spent on endless tutorial loops without actual practice. I aim to limit my consumption of art tutorials to only two hours a week, using the rest of my time for hands-on painting.\"\n",
      "\n"
     ]
    },
    {
     "name": "stderr",
     "output_type": "stream",
     "text": [
      "Unsure what the main output string is for the call to _call with return type <class 'langchain_core.messages.ai.AIMessage'>.\n"
     ]
    },
    {
     "name": "stdout",
     "output_type": "stream",
     "text": [
      "\n",
      "Personal Goal and Passion: \"Fitness is my biggest passion, and I'm training for a half-marathon. However, I often find myself watching fitness vlogs and motivational videos on YouTube instead of going out for my runs or doing my workouts.\"\n",
      "Goal to Improve Addiction: \"I need to cut down on passive consumption of fitness content and spend more actual time training. My goal is to replace at least half of my YouTube viewing time with real-life training sessions, avoiding fitness vlogs and focusing only on necessary training videos.\"\n",
      "\n"
     ]
    },
    {
     "name": "stderr",
     "output_type": "stream",
     "text": [
      "Unsure what the main output string is for the call to _call with return type <class 'langchain_core.messages.ai.AIMessage'>.\n"
     ]
    },
    {
     "name": "stdout",
     "output_type": "stream",
     "text": [
      "\n",
      "Personal Goal and Passion: \"I'm a student with upcoming exams in three major subjects. While I start on YouTube looking for study tips or educational content, I end up watching unrelated videos for hours, which is hampering my study schedule.\"\n",
      "Goal to Improve Addiction: \"My aim is to use YouTube solely for educational purposes related to my exams, avoiding any content not directly linked to my study topics. I want to limit my daily YouTube usage to a maximum of one hour, strictly for educational videos that contribute to my exam preparation.\"\n",
      "\n"
     ]
    },
    {
     "name": "stderr",
     "output_type": "stream",
     "text": [
      "Unsure what the main output string is for the call to _call with return type <class 'langchain_core.messages.ai.AIMessage'>.\n"
     ]
    },
    {
     "name": "stdout",
     "output_type": "stream",
     "text": [
      "\n",
      "Personal Goal and Passion: \"Fitness is my ultimate passion, and I'm working towards running a marathon. Despite my dedication, I find myself endlessly browsing through fitness vlogs and motivational speeches on YouTube, which eats into my training time.\"\n",
      "Goal to Improve Addiction: \"My objective is to significantly cut down on my YouTube consumption, especially videos that are motivational but not directly related to my training regimen. I aim to restrict my viewing to only one hour per week strictly for instructional running and diet advice, reallocating the saved time to physical training and preparation for the marathon.\"\n",
      "\n"
     ]
    },
    {
     "name": "stderr",
     "output_type": "stream",
     "text": [
      "Unsure what the main output string is for the call to _call with return type <class 'langchain_core.messages.ai.AIMessage'>.\n"
     ]
    },
    {
     "name": "stdout",
     "output_type": "stream",
     "text": [
      "\n",
      "Personal Goal and Passion: \"I am deeply interested in programming and aim to enhance my coding skills to build my own tech startup. My goal is to develop a new software project every month, but I often get sidetracked watching tech talks and tutorials on YouTube without actual coding.\"\n",
      "Goal to Improve Addiction: \"I wish to curb my YouTube usage, particularly the excessive time spent watching tech-related content that doesn't directly contribute to my coding practice. I plan to limit my viewing of such content to just three hours per week, dedicating the bulk of my time to hands-on software development and coding exercises.\"\n",
      "\n"
     ]
    },
    {
     "name": "stderr",
     "output_type": "stream",
     "text": [
      "Unsure what the main output string is for the call to _call with return type <class 'langchain_core.messages.ai.AIMessage'>.\n"
     ]
    }
   ],
   "source": [
    "with gpt4_turbo_recorder as recording:\n",
    "    for question in prompts:\n",
    "        print(question)\n",
    "        gpt4_turbo_recorder.app(question)"
   ]
  },
  {
   "cell_type": "code",
   "execution_count": null,
   "metadata": {},
   "outputs": [],
   "source": []
  }
 ],
 "metadata": {
  "kernelspec": {
   "display_name": "coaching-program-2",
   "language": "python",
   "name": "coaching-program-2"
  },
  "language_info": {
   "codemirror_mode": {
    "name": "ipython",
    "version": 3
   },
   "file_extension": ".py",
   "mimetype": "text/x-python",
   "name": "python",
   "nbconvert_exporter": "python",
   "pygments_lexer": "ipython3",
   "version": "3.10.11"
  }
 },
 "nbformat": 4,
 "nbformat_minor": 4
}
